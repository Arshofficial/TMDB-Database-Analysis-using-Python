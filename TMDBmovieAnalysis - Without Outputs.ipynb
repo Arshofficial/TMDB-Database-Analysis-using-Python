{
  "nbformat": 4,
  "nbformat_minor": 0,
  "metadata": {
    "colab": {
      "name": "TMDBmovieAnalysis.ipynb",
      "provenance": []
    },
    "kernelspec": {
      "name": "python3",
      "display_name": "Python 3"
    },
    "language_info": {
      "name": "python"
    }
  },
  "cells": [
    {
      "cell_type": "markdown",
      "source": [
        "# TMDB Movie Database - Analysis \n",
        "### Project Hypothesis : Budget spent on movies And Revenue generated have increased considerably over time are in positive correlation with one another.\n",
        "\n",
        "## Questions Posed:     \n",
        "* What is Growth tendency followed by Movie Budget spent over time?\n",
        "* Discuss the tendency of revenue generated from movies, has it increased,decreased or stayed in constant proportion over time?\n",
        "* Does Budget spent on a movie affect or influence Revenue earnings of that movie?\n",
        "* How are these parameters related to one another?\n",
        "### Questions based on genre/genres of movies: \n",
        "* Which genre/genres movies have grossed the most revenue overtime?\n",
        "* Study the proportion in which movies have been made over time. Considering genre/genres count of movies(frequency) falling into each particular genre.\n",
        "\n",
        "  **Highlighting top 5 entities in each of below cases:**\n",
        "* Which genres have grossed most revenue over given time?\n",
        "* Which genres have most budget spent into making movies over time?\n",
        "* Which genre/s has/ve gained the most popularity over time ?\n",
        "* Did you conclude your hypothesis?\n",
        "\n",
        "## Project Outlines and Steps Followed :      \n",
        "    * Gathering data from provided CSV.\n",
        "    * Data Cleaning and Engineering using Python on Google Colab.\n",
        "    * Dropping Un-neccesary Columns and Dividing columns with heterogeneous data into new individual columns.  \n",
        "    * Following our hypothesis. I have further plotted graphs and have mentioned key take aways from each one of them as we move along this project.\n",
        "    * Python Scripts with Concludding graphs can be easily found below. \n"
      ],
      "metadata": {
        "id": "3UuGcvkWRmb0"
      }
    },
    {
      "cell_type": "markdown",
      "source": [
        "### Importing Required Library and provided DB : TMDB database (CSV file)"
      ],
      "metadata": {
        "id": "iT7NPnScNMT8"
      }
    },
    {
      "cell_type": "code",
      "execution_count": null,
      "metadata": {
        "id": "xUqvXPpSqGIy"
      },
      "outputs": [],
      "source": [
        "import pandas as pd\n",
        "import numpy as np\n",
        "import matplotlib.pyplot as plt\n",
        "import seaborn as sns\n",
        "from matplotlib.pyplot import figure\n",
        "figure(figsize=(8, 6), dpi=80)\n",
        "%matplotlib inline\n",
        "df=pd.read_csv('/content/drive/MyDrive/tmdb-movies.csv')\n",
        "df.head(1)"
      ]
    },
    {
      "cell_type": "markdown",
      "source": [
        "Movies DB Gathered till 2015"
      ],
      "metadata": {
        "id": "GQzt1Rn3sm3v"
      }
    },
    {
      "cell_type": "code",
      "source": [
        "df.tail(1)"
      ],
      "metadata": {
        "id": "SZmcG9IUrH1F"
      },
      "execution_count": null,
      "outputs": []
    },
    {
      "cell_type": "markdown",
      "source": [
        "Movies DB Gathered from 1966"
      ],
      "metadata": {
        "id": "64cydIs9sgG6"
      }
    },
    {
      "cell_type": "markdown",
      "source": [
        "### Initial DB analysis for factors such as MAX, MIN and MEAN of values per given column"
      ],
      "metadata": {
        "id": "9OPUcE9ZNzeL"
      }
    },
    {
      "cell_type": "code",
      "source": [
        "df.describe()"
      ],
      "metadata": {
        "id": "x_M7dRgur9bm"
      },
      "execution_count": null,
      "outputs": []
    },
    {
      "cell_type": "markdown",
      "source": [
        "### Acquiring info about Null/Non-Null attributes per column"
      ],
      "metadata": {
        "id": "qdkqMxbON_lt"
      }
    },
    {
      "cell_type": "code",
      "source": [
        "df.info()"
      ],
      "metadata": {
        "id": "asyM9xjEs_au"
      },
      "execution_count": null,
      "outputs": []
    },
    {
      "cell_type": "markdown",
      "source": [
        "### Dropping non-required columns from the Database"
      ],
      "metadata": {
        "id": "Jv_eUcKWOWua"
      }
    },
    {
      "cell_type": "code",
      "source": [
        "df.drop(['imdb_id','keywords','budget_adj','revenue_adj','overview','tagline','homepage','cast', 'director','original_title'], axis = 1 , inplace= True)\n"
      ],
      "metadata": {
        "id": "rXqLbq02uNT9"
      },
      "execution_count": null,
      "outputs": []
    },
    {
      "cell_type": "markdown",
      "source": [
        "Checking for new Engineered Database with only suitable columns"
      ],
      "metadata": {
        "id": "USC_8RBvOdWX"
      }
    },
    {
      "cell_type": "code",
      "source": [
        "df.head(1)"
      ],
      "metadata": {
        "id": "OjZtgT8f8wu-"
      },
      "execution_count": null,
      "outputs": []
    },
    {
      "cell_type": "markdown",
      "source": [
        "### Splitting 'Genres' (heterogeneous ) columns in new individual columns for better Data Analysis and Trend study"
      ],
      "metadata": {
        "id": "ZVL3aSNrOux9"
      }
    },
    {
      "cell_type": "code",
      "source": [
        "df[['genre1','genre2','genre3','genre4','genre5']] = df.genres.str.split('|', expand=True)"
      ],
      "metadata": {
        "id": "jfkMxMkpvzrK"
      },
      "execution_count": null,
      "outputs": []
    },
    {
      "cell_type": "markdown",
      "source": [
        "### Splitting 'Production Companies' (heterogeneous ) columns in new individual columns for better Data Analysis and Trend study"
      ],
      "metadata": {
        "id": "ieco9fbiO-9I"
      }
    },
    {
      "cell_type": "code",
      "source": [
        "df[['prod1','prod2','prod3','prod4','prod5']] = df.production_companies.str.split('|', expand=True)\n"
      ],
      "metadata": {
        "id": "7tZXoNPLyyEB"
      },
      "execution_count": null,
      "outputs": []
    },
    {
      "cell_type": "markdown",
      "source": [
        "### Now, Checking for desired columns in our database after splitting above columns. "
      ],
      "metadata": {
        "id": "yu8xEmdMPReB"
      }
    },
    {
      "cell_type": "code",
      "source": [
        "df.head(1)"
      ],
      "metadata": {
        "id": "zaEunTibPI13"
      },
      "execution_count": null,
      "outputs": []
    },
    {
      "cell_type": "markdown",
      "source": [
        "## Further dropping two of columns 'genres' and 'production_companies',  \n",
        "### After splitting data into new individual columns and storing in our database."
      ],
      "metadata": {
        "id": "SNFY6N0yPkBh"
      }
    },
    {
      "cell_type": "code",
      "source": [
        "df.drop(['genres','production_companies'], axis = 1 , inplace= True)"
      ],
      "metadata": {
        "id": "_0CGjUJU1ME5"
      },
      "execution_count": null,
      "outputs": []
    },
    {
      "cell_type": "code",
      "source": [
        "df.head(1)"
      ],
      "metadata": {
        "id": "Dbhx5u9c28pT"
      },
      "execution_count": null,
      "outputs": []
    },
    {
      "cell_type": "markdown",
      "source": [
        "## Analysing Null / Non-Null values in Engineered Data base."
      ],
      "metadata": {
        "id": "BBDSWD6jR_Y3"
      }
    },
    {
      "cell_type": "code",
      "source": [
        "df.info()"
      ],
      "metadata": {
        "id": "xREpqoHHErwL"
      },
      "execution_count": null,
      "outputs": []
    },
    {
      "cell_type": "markdown",
      "source": [
        "## Plotting Graphs against Time Period for Trend Analysis."
      ],
      "metadata": {
        "id": "6nUlPR1USQqm"
      }
    },
    {
      "cell_type": "markdown",
      "source": [
        "### Runtime VS Time Period Graph Analysis .\n",
        "  As inffered from Graph below, here are my Analysed points :    \n",
        "\n",
        "\n",
        "*   Mean Run Time has remained constant for large part of our provided data.\n",
        "*   There have been some outlier values which are evident in the years 1985,2001,2002,2005 and 2011.\n",
        "* The Mean Run Time per movie can be seen to be around 150 Mins per year. \n",
        "\n"
      ],
      "metadata": {
        "id": "IuY-A0ZSSbex"
      }
    },
    {
      "cell_type": "code",
      "source": [
        "plt.figure(figsize = (20,10))\n",
        "plt. bar(df['release_year'],df['runtime'])\n",
        "plt.xlabel('Time Period (Year)')\n",
        "plt.ylabel('Run Time in Mins')\n",
        "plt.title('Movie Run Time Trend')\n"
      ],
      "metadata": {
        "id": "yNMZ8EhYEtkp"
      },
      "execution_count": null,
      "outputs": []
    },
    {
      "cell_type": "markdown",
      "source": [
        "### Revenue VS Time Period Graph Analysis .\n",
        "  As inffered from Graph below, here are my Analysed points : \n",
        "\n",
        "\n",
        "*   An Increase in Revenue tendency can be inferred from the graph below.\n",
        "*   The Gross mark of 1 Bn. USD is seen to be crossed only after the year 1995, and significant growth is seen overall. \n",
        "* Revenue peek is seen in the year : 2010\n",
        "\n",
        "\n"
      ],
      "metadata": {
        "id": "4giOEnUXWVqf"
      }
    },
    {
      "cell_type": "code",
      "source": [
        "plt.figure(figsize = (20,10))\n",
        "plt. bar(df['release_year'],df['revenue'])\n",
        "plt.xlabel('Time Period (Year)')\n",
        "plt.ylabel('Revenue spent X 1 Billion USD')\n",
        "plt.title('Revenue Trend')"
      ],
      "metadata": {
        "id": "dT3Kl5np8Zcu"
      },
      "execution_count": null,
      "outputs": []
    },
    {
      "cell_type": "markdown",
      "source": [
        "### Budget VS Time Period Graph Analysis .\n",
        "  As inffered from Graph below, here are my Analysed points : \n",
        "\n",
        "\n",
        "*   An Increase in budget tendency can be inferred from the graph below.\n",
        "*   The Gross mark of 1 Bn. USD is seen to be crossed only after the year 1995, and significant growth is seen overall. \n",
        "* Revenue peek is seen in the year : 2010"
      ],
      "metadata": {
        "id": "DLH8_bDhjTQA"
      }
    },
    {
      "cell_type": "code",
      "source": [
        "plt.figure(figsize = (20,10))\n",
        "plt. bar(df['release_year'],df['budget'])\n",
        "plt.xlabel('Time Period (Year)')\n",
        "plt.ylabel('Budget spent X 100 Million USD')\n",
        "plt.title('Budget Trend')"
      ],
      "metadata": {
        "id": "Pq5rC3zQ_JXq"
      },
      "execution_count": null,
      "outputs": []
    },
    {
      "cell_type": "markdown",
      "source": [
        "# Conclusion from above Graphs and Analysis :    \n",
        " * Both Budget and Revenue Indices have increased over time and share the same increasing tendency.\n",
        " * Both Graphs show a spike in the year 2009.\n",
        " * Above, two graphs prove our hypothesis about Budget,Revenue Correlation and its nature of being directly proportional on one another. \n",
        " \n",
        " (Above given conclusions concern certain exceptions, but share above stated results over all.)"
      ],
      "metadata": {
        "id": "q21R1D368e1L"
      }
    },
    {
      "cell_type": "code",
      "source": [
        "df.head(1)"
      ],
      "metadata": {
        "id": "uWmnah8h3aLO"
      },
      "execution_count": null,
      "outputs": []
    },
    {
      "cell_type": "markdown",
      "source": [
        "#Now, we will be adressing scenarios based on Genres in the given time period in Database.\n",
        "\n",
        "### A pie chart inferring, the frequency of genre/genres(overall) with their percentage count in the pie diagram.\n",
        "### Given below we can find these conclusions : \n",
        "* 'Action, Adventure, Crime, Drama, Thriller' have been the most frequent made genre combination for a movie in the given period (1960 - 2015).\n",
        "* Above genre combination is followed by these 4 genre combination movies : \n",
        "  * 'Action, Crime, Drama, Mystery, Thriller'\n",
        "  * 'Adventure, Animation, Comedy, Family, Fantasy'\n",
        "  * 'Animation, Adventure, Comedy, Family, Fantasy'\n",
        "  * 'Action, Adventure, Crime, Drama, Mystery'"
      ],
      "metadata": {
        "id": "QAjfHt5Q9eVt"
      }
    },
    {
      "cell_type": "code",
      "source": [
        "plt.figure(figsize = (60, 60))\n",
        "df[['genre1','genre2','genre3','genre4','genre5']].value_counts().plot.pie()"
      ],
      "metadata": {
        "id": "yVbzuECN3aI6"
      },
      "execution_count": null,
      "outputs": []
    },
    {
      "cell_type": "markdown",
      "source": [
        "## Given Pie charts infer to genres with gross revenue amounts associated.\n",
        " * Based on below pie chart indices we can clearly see given \n",
        "    'Adventure, Animation, Comedy, Family, Fantasy' genres \n",
        "    grossed highest revenue sum through out the periiod.\n",
        "  "
      ],
      "metadata": {
        "id": "dZOWy721FeUm"
      }
    },
    {
      "cell_type": "code",
      "source": [
        "plt.figure(figsize = (60, 60))\n",
        "df.groupby(['genre1', 'genre2', 'genre3', 'genre4', 'genre5']).revenue.sum().plot.pie()\n"
      ],
      "metadata": {
        "id": "k9WoS2E03aGR"
      },
      "execution_count": null,
      "outputs": []
    },
    {
      "cell_type": "markdown",
      "source": [
        "* Based on below pie chart indices we can clearly see given \n",
        "    'Crime, Drama, Mystery, Thriller, Action' genres \n",
        "    grossed highest revenue mean through out the periiod."
      ],
      "metadata": {
        "id": "GgD4y1o7NKaF"
      }
    },
    {
      "cell_type": "code",
      "source": [
        "plt.figure(figsize = (60, 60))\n",
        "df.groupby(['genre1', 'genre2', 'genre3', 'genre4', 'genre5']).revenue.mean().plot.pie()\n"
      ],
      "metadata": {
        "id": "vl0pPtKxNvZ_"
      },
      "execution_count": null,
      "outputs": []
    },
    {
      "cell_type": "markdown",
      "source": [
        "* Moving ahead, we can see the movie genres per year along with their popularity mean indexed on Y-axis of the below graph.\n",
        "And we can infer to the most popular movies per year from 1960 to 2015"
      ],
      "metadata": {
        "id": "6JHflqrNOor5"
      }
    },
    {
      "cell_type": "markdown",
      "source": [
        "## Function used for plotting Popularity and Budget means over year."
      ],
      "metadata": {
        "id": "_QlI3UNTAU7f"
      }
    },
    {
      "cell_type": "code",
      "source": [
        "def funcplot (x):\n",
        "  if( x== df.popularity.all ):\n",
        "    plt.figure(figsize = (60, 10))\n",
        "    df.groupby(['release_year','genre1', 'genre2', 'genre3', 'genre4', 'genre5']).popularity.mean().plot.bar()\n",
        "  elif (x== df.budget.all(skipna=True) ):\n",
        "    plt.figure(figsize = (60, 10))\n",
        "    df.groupby(['release_year','genre1', 'genre2', 'genre3', 'genre4', 'genre5']).budget.mean().plot.bar()\n",
        "  "
      ],
      "metadata": {
        "id": "4kLEavW9AktI"
      },
      "execution_count": null,
      "outputs": []
    },
    {
      "cell_type": "code",
      "source": [
        "funcplot(df.popularity.all)"
      ],
      "metadata": {
        "id": "tNQqxMYkE0s8"
      },
      "execution_count": null,
      "outputs": []
    },
    {
      "cell_type": "markdown",
      "source": [
        "* Next, we can find the movies along with their budget means for the movie genres in our database. Further, we can also find maximum mean of the budgets spent per movie genre per year."
      ],
      "metadata": {
        "id": "jaLLVa59PUn2"
      }
    },
    {
      "cell_type": "code",
      "source": [
        "funcplot(df.budget.all(skipna=True))"
      ],
      "metadata": {
        "id": "r7OWV6ZgLWhq"
      },
      "execution_count": null,
      "outputs": []
    },
    {
      "cell_type": "code",
      "source": [
        "df['budgetf']= df['budget'].astype(float)\n",
        "funcplot(df.budgetf.all)"
      ],
      "metadata": {
        "id": "blB2X4Ep3aBS"
      },
      "execution_count": null,
      "outputs": []
    },
    {
      "cell_type": "markdown",
      "source": [
        "# Conclusion to our Hypothesis.\n",
        "## Budget and Revenue are positively Correlated and have direct proportional relation between them.\n",
        "\n",
        "This can finally be verrified using Dataframe.corr() method and checking for correlation between the above two.\n",
        "Now Since here the value is '0.734901' (which is positive), giving a satisfying conclusion to our hypothesis."
      ],
      "metadata": {
        "id": "HCUt8mhBQGTQ"
      }
    },
    {
      "cell_type": "code",
      "source": [
        "df.corr()"
      ],
      "metadata": {
        "id": "TfExgGBn3Z-s"
      },
      "execution_count": null,
      "outputs": []
    },
    {
      "cell_type": "markdown",
      "source": [
        "# Sources Reffered :      \n",
        " * Stackoverflow.com\n",
        " * numpy.org\n",
        " * geekforgeeks.org\n",
        " * w3schools.com\n",
        " * pandas.pydata.com"
      ],
      "metadata": {
        "id": "cHw1gOVeQ2b7"
      }
    }
  ]
}